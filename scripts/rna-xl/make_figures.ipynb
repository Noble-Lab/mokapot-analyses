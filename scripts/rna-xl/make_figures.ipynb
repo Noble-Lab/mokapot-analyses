{
 "cells": [
  {
   "cell_type": "code",
   "execution_count": null,
   "metadata": {},
   "outputs": [],
   "source": [
    "import os\n",
    "from collections import defaultdict\n",
    "\n",
    "import mokapot\n",
    "import numpy as np\n",
    "import pandas as pd\n",
    "import matplotlib.pyplot as plt\n",
    "import seaborn as sns\n",
    "\n",
    "from wispy import theme\n",
    "\n",
    "pal = theme.paper()\n",
    "TWO_COL = 180 / 25.4\n",
    "HEIGHT = 3.5\n",
    "ONE_COL = 88 / 25.4\n",
    "\n",
    "res_files = [f for f in os.listdir(\"mokapot-out\") if f.endswith(\".txt\") and \".modified\" in f]\n",
    "res_files\n",
    "\n",
    "print(TWO_COL)"
   ]
  },
  {
   "cell_type": "markdown",
   "metadata": {},
   "source": [
    "## Load the confidence estimates"
   ]
  },
  {
   "cell_type": "code",
   "execution_count": null,
   "metadata": {},
   "outputs": [],
   "source": [
    "disc = defaultdict(list)\n",
    "for res in res_files:\n",
    "    model, _, _, level, _ = res.split(\".\")\n",
    "    df = pd.read_csv(os.path.join(\"mokapot-out\", res), sep=\"\\t\")\n",
    "    df[\"model\"] = model\n",
    "    disc[level].append(df)\n",
    "    \n",
    "disc = {k: pd.concat(v) for k, v in disc.items()}\n",
    "disc.keys()"
   ]
  },
  {
   "cell_type": "markdown",
   "metadata": {},
   "source": [
    "## Number of Accepted"
   ]
  },
  {
   "cell_type": "code",
   "execution_count": null,
   "metadata": {},
   "outputs": [],
   "source": [
    "for level, df in disc.items():\n",
    "    accepted = df.loc[df[\"mokapot q-value\"] <= 0.01, :]\n",
    "    groups = accepted.groupby(\"model\")[\"mokapot q-value\"].count()\n",
    "    gain = groups[\"xgb\"] - groups[\"linear\"]\n",
    "    \n",
    "    print(level)\n",
    "    print(groups)\n",
    "    print(gain, gain/groups[\"linear\"])\n",
    "    print(\"\\n\")"
   ]
  },
  {
   "cell_type": "markdown",
   "metadata": {},
   "source": [
    "## Feature Importance"
   ]
  },
  {
   "cell_type": "code",
   "execution_count": null,
   "metadata": {},
   "outputs": [],
   "source": [
    "imp = pd.read_csv(\"featimp-out/importance.txt\", sep=\"\\t\")\n",
    "new_labs = {\"linear\": \"Linear SVM\", \"xgb\": \"XGBoost\"}\n",
    "imp[\"mokapot model\"] = imp[\"model\"].apply(new_labs.get)\n",
    "\n",
    "sums = imp.groupby(\"model\").sum() / 5\n",
    "imp[\"norm_imp\"] = imp.apply(lambda x: x[\"importance\"] / sums.loc[x[\"model\"], \"importance\"], axis=1)\n",
    "\n",
    "plt.figure(figsize=(TWO_COL, 6))\n",
    "sns.barplot(data=imp, x=\"norm_imp\", y=\"feature\", hue=\"mokapot model\")\n",
    "plt.ylabel(\"Feature\")\n",
    "plt.xlabel(\"Relative Feature Importance\")\n",
    "plt.tight_layout()\n",
    "plt.savefig(\"figures/feature_importance.png\", dpi=300)"
   ]
  },
  {
   "cell_type": "markdown",
   "metadata": {},
   "source": [
    "## Make a Mass Shift Histogram"
   ]
  },
  {
   "cell_type": "code",
   "execution_count": null,
   "metadata": {},
   "outputs": [],
   "source": [
    "x = disc[\"psms\"]\n",
    "x[\"massdiff\"] = (x[\"Peptide\"].str.split(\"\\[\")\n",
    "                 .apply(lambda x: x[-1])\n",
    "                 .str.replace(\"\\]\", \"\")\n",
    "                 .astype(float))\n",
    "\n",
    "x = x.loc[~(x[\"model\"] == \"fragger\") & (x[\"mokapot q-value\"] <= 0.01), :]\n",
    "sums = []\n",
    "for mod, group in x.groupby(\"model\"):\n",
    "    gsum = group[\"massdiff\"].value_counts().sort_index()\n",
    "    gsum.name = mod\n",
    "    sums.append(gsum)\n",
    "    \n",
    "sums = pd.concat(sums, axis=1).fillna(0).sort_index()\n",
    "diff = (sums[\"xgb\"] - sums[\"linear\"]).sort_index(ascending=True)\n",
    "\n",
    "diff.sort_values(ascending=False)"
   ]
  },
  {
   "cell_type": "markdown",
   "metadata": {},
   "source": [
    "## Plot the Main Figure"
   ]
  },
  {
   "cell_type": "code",
   "execution_count": null,
   "metadata": {},
   "outputs": [],
   "source": [
    "fig = plt.figure(figsize=(TWO_COL, 4))\n",
    "gs = fig.add_gridspec(2, 3)\n",
    "\n",
    "score = {\"fragger\": \"E-value\", \"linear\": \"Linear SVM\", \"xgb\": \"XGBoost\"}\n",
    "labels = {\"psms\": \"PSMs\", \"peptides\": \"Peptides\", \"proteins\": \"Proteins\"}\n",
    "\n",
    "\n",
    "# PSMs\n",
    "for idx, level in enumerate([\"psms\", \"peptides\", \"proteins\"]):\n",
    "    ax = fig.add_subplot(gs[0, idx])\n",
    "    for model, df in disc[level].groupby(\"model\"):\n",
    "        mokapot.plot_qvalues(df[\"mokapot q-value\"], label=score[model], ax=ax)\n",
    "    \n",
    "    ax.set_ylabel(f\"Modified {labels[level]}\")\n",
    "    ax.legend(fontsize=\"small\")\n",
    "\n",
    "\n",
    "# Mass Shift Histogram\n",
    "# 79.97 = Phospho\n",
    "# 43.01 = Carbamylation\n",
    "# 958.13 = ACU\n",
    "# 0.98 = Deamidation\n",
    "# 653.09 = AU\n",
    "\n",
    "offset = 10\n",
    "ax = fig.add_subplot(gs[1, :])\n",
    "ax.plot(diff.index, diff.values)\n",
    "ax.set_xlabel(\"Mass shift (Da)\")\n",
    "ax.set_ylabel(\"PSMs gained\")\n",
    "ax.annotate(\"Phosphorylation\\n(+79.97)\", (79.97 + offset, 200))\n",
    "ax.annotate(\"AU\\n(+653.09)\", (653.09, 120), ha=\"right\")\n",
    "ax.annotate(\"ACU\\n(+958.13)\", (958.13, 120), ha=\"right\")\n",
    "ax.annotate(\"Carbamylation\\n(+43.01)\", (43.01, 180), ha=\"right\")\n",
    "ax.annotate(\"Deamidation\\n(+0.98)\", (0.98 - offset, 75), ha=\"right\")\n",
    "\n",
    "fig.align_ylabels()\n",
    "\n",
    "for ax, label in zip(fig.axes, [\"a\", \"b\", \"c\", \"d\"]):\n",
    "    ax.annotate(\n",
    "        label, \n",
    "        (-10, 105), \n",
    "        xycoords=\"axes points\", \n",
    "        fontweight='bold', \n",
    "        va='top', \n",
    "        ha='right')\n",
    "    \n",
    "plt.tight_layout()\n",
    "\n",
    "plt.savefig(\"figures/oms_figure.png\", dpi=300)"
   ]
  }
 ],
 "metadata": {
  "kernelspec": {
   "display_name": "Python 3",
   "language": "python",
   "name": "python3"
  },
  "language_info": {
   "codemirror_mode": {
    "name": "ipython",
    "version": 3
   },
   "file_extension": ".py",
   "mimetype": "text/x-python",
   "name": "python",
   "nbconvert_exporter": "python",
   "pygments_lexer": "ipython3",
   "version": "3.8.0"
  }
 },
 "nbformat": 4,
 "nbformat_minor": 4
}
