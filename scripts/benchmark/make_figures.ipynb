{
 "cells": [
  {
   "cell_type": "code",
   "execution_count": null,
   "metadata": {},
   "outputs": [],
   "source": [
    "from pathlib import Path\n",
    "\n",
    "import numpy as np\n",
    "import pandas as pd\n",
    "import matplotlib.pyplot as plt\n",
    "import seaborn as sns\n",
    "\n",
    "import wispy.theme as theme\n",
    "\n",
    "sns.set()\n",
    "pal = theme.paper()\n",
    "TWO_COL = 180 / 25.4\n",
    "HEIGHT = 3.5\n",
    "ONE_COL = 88 / 25.4\n",
    "\n",
    "def get_results(log_file):\n",
    "    \"\"\"Extract the wall clock time and maximum RSS from a GNU time log file\"\"\"\n",
    "    time = np.nan\n",
    "    mem = np.nan\n",
    "    with open(log_file) as log:\n",
    "        for line in log:\n",
    "            if \"Elapsed (wall clock) time\" in line:\n",
    "                time = line.split(\" \")[-1].split(\":\")\n",
    "                if len(time) == 3:\n",
    "                    time = float(time[0])*60**2 + float(time[1])*60 + float(time[2])\n",
    "                else:\n",
    "                    time = float(time[0])*60 + float(time[1])\n",
    "            \n",
    "            if \"Maximum resident set size\" in line:\n",
    "                mem = float(line.split(\" \")[-1]) / 1000\n",
    "            \n",
    "                \n",
    "    file_comp = log_file.name.split(\"_\")\n",
    "    tool = file_comp[0]\n",
    "    psms = int(file_comp[2])\n",
    "    rep = int(file_comp[-1].split(\".\")[0])\n",
    "                \n",
    "    df = pd.DataFrame({\"psms\": [psms],\n",
    "                       \"tool\": tool,\n",
    "                       \"rep\": rep,\n",
    "                       \"time\": time,\n",
    "                       \"mem\": mem})\n",
    "        \n",
    "    return df\n",
    "                "
   ]
  },
  {
   "cell_type": "code",
   "execution_count": null,
   "metadata": {},
   "outputs": [],
   "source": [
    "res = pd.concat([get_results(l) for l in Path(\"logs\").iterdir()])\n",
    "res.loc[res[\"tool\"] == \"percolator\", \"tool\"] = \"Percolator\"\n",
    "\n",
    "best_time = (res.sort_values(\"time\").groupby([\"psms\", \"tool\"])).head(1)\n",
    "best_mem = (res.sort_values(\"mem\").groupby([\"psms\", \"tool\"])).head(1)\n",
    "\n",
    "best_mem.sort_values(\"psms\")"
   ]
  },
  {
   "cell_type": "markdown",
   "metadata": {},
   "source": [
    "## Plot the Performance"
   ]
  },
  {
   "cell_type": "code",
   "execution_count": null,
   "metadata": {},
   "outputs": [],
   "source": [
    "sns.set_context(\"notebook\")\n",
    "fig, axs = plt.subplots(1, 2, figsize=(TWO_COL, HEIGHT))\n",
    "\n",
    "sns.lineplot(x=\"psms\", y=\"time\", hue=\"tool\", ax=axs[0], data=best_time, marker=\"o\")\n",
    "axs[0].set_ylabel(\"Wall Clock Time (s)\")\n",
    "\n",
    "sns.lineplot(x=\"psms\", y=\"mem\", hue=\"tool\", ax=axs[1], data=best_mem, marker=\"o\")\n",
    "axs[1].set_ylabel(\"Max Memory (Mb)\")\n",
    "\n",
    "for ax, label in zip(axs, \"ab\"):\n",
    "    ax.set_xlabel(\"Number of PSMs\")\n",
    "    ax.set_xscale(\"log\")\n",
    "    ax.set_yscale(\"log\")\n",
    "    ax.get_legend().set_title(None)\n",
    "\n",
    "    lab_y = 200\n",
    "    ax.annotate(\n",
    "        label, \n",
    "        (-10, lab_y), \n",
    "        xycoords=\"axes points\", \n",
    "        fontweight='bold', \n",
    "        va='top', \n",
    "        ha='right'\n",
    "    )\n",
    "    \n",
    "    \n",
    "plt.tight_layout()\n",
    "plt.savefig(\"figures/benchmark.png\", dpi=300)"
   ]
  }
 ],
 "metadata": {
  "kernelspec": {
   "display_name": "Python 3",
   "language": "python",
   "name": "python3"
  },
  "language_info": {
   "codemirror_mode": {
    "name": "ipython",
    "version": 3
   },
   "file_extension": ".py",
   "mimetype": "text/x-python",
   "name": "python",
   "nbconvert_exporter": "python",
   "pygments_lexer": "ipython3",
   "version": "3.8.0"
  }
 },
 "nbformat": 4,
 "nbformat_minor": 4
}
