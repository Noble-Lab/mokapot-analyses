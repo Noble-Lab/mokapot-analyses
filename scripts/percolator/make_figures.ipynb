{
 "cells": [
  {
   "cell_type": "code",
   "execution_count": null,
   "metadata": {},
   "outputs": [],
   "source": [
    "import os\n",
    "\n",
    "import mokapot\n",
    "import numpy as np\n",
    "import pandas as pd\n",
    "import matplotlib.pyplot as plt \n",
    "import seaborn as sns\n",
    "\n",
    "from wispy import theme\n",
    "\n",
    "sns.set()\n",
    "pal = theme.paper()\n",
    "TWO_COL = 180 / 25.4\n",
    "HEIGHT = 3.5\n",
    "ONE_COL = 88 / 25.4"
   ]
  },
  {
   "cell_type": "markdown",
   "metadata": {},
   "source": [
    "## Load the results"
   ]
  },
  {
   "cell_type": "code",
   "execution_count": null,
   "metadata": {},
   "outputs": [],
   "source": [
    "os.makedirs(\"figures\", exist_ok=True)\n",
    "res_dir = \"combined-out\"\n",
    "res = {}\n",
    "for level in [\"psms\", \"peptides\", \"proteins\"]:\n",
    "    res[level] = pd.read_csv(os.path.join(res_dir, f\"{level}.txt\"), sep=\"\\t\")"
   ]
  },
  {
   "cell_type": "markdown",
   "metadata": {},
   "source": [
    "## A helper function to make the figure"
   ]
  },
  {
   "cell_type": "code",
   "execution_count": null,
   "metadata": {},
   "outputs": [],
   "source": [
    "def comparison_plot(x, y, ax=None):\n",
    "    \"\"\"\n",
    "    Create a scatter plot with equal axis scales.\n",
    "\n",
    "    Plot x against y, where the axis limits are scaled\n",
    "    to be equal. Additionally a y=x line is added.\n",
    "\n",
    "    Parameters\n",
    "    ----------\n",
    "    x, y : numpy.ndarray\n",
    "        The points to plot\n",
    "    ax : matplotlib.axes.Axes\n",
    "        The matplotlib axes to plot on.\n",
    "\n",
    "    Returns\n",
    "    -------\n",
    "    matplotlib.axes.Axes\n",
    "        The axes with the plot.\n",
    "    \"\"\"\n",
    "    if ax is None:\n",
    "        ax = plt.gca()\n",
    "        \n",
    "    corr = np.corrcoef(x, y)[0, 1]\n",
    "    ax.text(0.05, 0.95, f\"Pearson's r\\n{corr:0.4f}\",\n",
    "            transform=ax.transAxes, va=\"top\", fontsize=\"small\")\n",
    "    \n",
    "    #cbar = ax.hexbin(x, y, mincnt=1, gridsize=100, bins=\"log\")\n",
    "    ax.scatter(x, y, s=1, alpha=0.5, edgecolor=\"none\")\n",
    "    lims = [np.min([ax.get_xlim(), ax.get_ylim()]),\n",
    "            np.max([ax.get_xlim(), ax.get_ylim()])]\n",
    "    \n",
    "    ax.plot(lims, lims, c=\"black\", zorder=0, linewidth=1)\n",
    "    ax.set_aspect('equal')\n",
    "    ax.set_xlim(lims)\n",
    "    ax.set_ylim(lims)\n",
    "    return ax"
   ]
  },
  {
   "cell_type": "markdown",
   "metadata": {},
   "source": [
    "## Make a giant figure"
   ]
  },
  {
   "cell_type": "code",
   "execution_count": null,
   "metadata": {},
   "outputs": [],
   "source": [
    "fig, axs = plt.subplots(3, 3, figsize=(TWO_COL, 6))\n",
    "labels = {\"psms\": \"PSMs\", \"peptides\": \"Peptides\", \"proteins\": \"Proteins\"}\n",
    "\n",
    "for col, level in zip(axs.T, [\"psms\", \"peptides\", \"proteins\"]):\n",
    "    df = res[level]\n",
    "    \n",
    "    # q-value curves\n",
    "    mokapot.plot_qvalues(df[\"percolator q-value\"], ax=col[0], \n",
    "                         label=\"Percolator\",threshold=0.1)\n",
    "    mokapot.plot_qvalues(df[\"mokapot q-value\"], ax=col[0], label=\"mokapot\", \n",
    "                         linestyle=\"dashed\", threshold=0.1)\n",
    "    col[0].legend(fontsize=\"small\")\n",
    "    col[0].set_ylabel(f\"Accepted {labels[level]}\")\n",
    "    \n",
    "    # q-values\n",
    "    comparison_plot(\n",
    "        df[\"percolator q-value\"], df[\"mokapot q-value\"], ax=col[1]\n",
    "    )\n",
    "    col[1].set_xlabel(\"Percolator q-value\")\n",
    "    col[1].set_ylabel(\"mokapot q-value\")\n",
    "    col[1].annotate(labels[level], (0.95, 0.05),\n",
    "                    xycoords=\"axes fraction\",\n",
    "                    va=\"bottom\", ha=\"right\", \n",
    "                    fontsize=\"small\")\n",
    "    \n",
    "    # PEPs\n",
    "    comparison_plot(\n",
    "        df[\"percolator PEP\"], df[\"mokapot PEP\"], ax=col[2]\n",
    "    )\n",
    "    col[2].set_xlabel(\"Percolator PEP\")\n",
    "    col[2].set_ylabel(\"mokapot PEP\")\n",
    "    col[2].annotate(labels[level], (0.95, 0.05),\n",
    "                    xycoords=\"axes fraction\",\n",
    "                    va=\"bottom\", ha=\"right\", \n",
    "                    fontsize=\"small\")\n",
    "\n",
    "\n",
    "for ax, label in zip(axs.flatten(), \"abcdefghi\"):\n",
    "    lab_y = 105\n",
    "    ax.annotate(\n",
    "        label, \n",
    "        (-10, lab_y), \n",
    "        xycoords=\"axes points\", \n",
    "        fontweight='bold', \n",
    "        va='top', \n",
    "        ha='right'\n",
    "    )\n",
    "    \n",
    "    \n",
    "plt.tight_layout()\n",
    "plt.savefig(\"figures/perc_comp.png\", dpi=300)"
   ]
  }
 ],
 "metadata": {
  "kernelspec": {
   "display_name": "Python 3",
   "language": "python",
   "name": "python3"
  },
  "language_info": {
   "codemirror_mode": {
    "name": "ipython",
    "version": 3
   },
   "file_extension": ".py",
   "mimetype": "text/x-python",
   "name": "python",
   "nbconvert_exporter": "python",
   "pygments_lexer": "ipython3",
   "version": "3.8.0"
  }
 },
 "nbformat": 4,
 "nbformat_minor": 4
}
